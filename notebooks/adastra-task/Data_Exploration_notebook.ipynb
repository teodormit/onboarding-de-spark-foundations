{
 "cells": [
  {
   "cell_type": "code",
   "execution_count": 1,
   "id": "698c5a99-2612-44df-aabb-d8c72735e967",
   "metadata": {},
   "outputs": [],
   "source": [
    "import sys, os\n",
    "sys.path.append(\"../src/python\") "
   ]
  },
  {
   "cell_type": "code",
   "execution_count": 29,
   "id": "3972d090-eb44-4be8-9226-deafedc21f00",
   "metadata": {},
   "outputs": [
    {
     "name": "stdout",
     "output_type": "stream",
     "text": [
      "/home/iceberg\n"
     ]
    }
   ],
   "source": [
    "cd \"/home/iceberg\"\n"
   ]
  },
  {
   "cell_type": "code",
   "execution_count": 10,
   "id": "30c2f769-dfdb-4a01-bc77-bfa520ce62b4",
   "metadata": {},
   "outputs": [
    {
     "name": "stdout",
     "output_type": "stream",
     "text": [
      "Obtaining file:///home/iceberg\n",
      "  Installing build dependencies ... \u001b[?2done\n",
      "\u001b[?25h  Checking if build backend supports build_editable ... \u001b[?25ldone\n",
      "\u001b[?25h  Getting requirements to build editable ... \u001b[?25ldone\n",
      "\u001b[?25h  Preparing editable metadata (pyproject.toml) ... \u001b[?25ldone\n",
      "\u001b[?25hRequirement already satisfied: typer>=0.12 in /usr/local/lib/python3.10/site-packages (from customer_transaction_etl==0.1.0) (0.19.2)\n",
      "Requirement already satisfied: pytest>=8.0 in /usr/local/lib/python3.10/site-packages (from customer_transaction_etl==0.1.0) (8.4.2)\n",
      "Requirement already satisfied: rich>=13.7 in /usr/local/lib/python3.10/site-packages (from customer_transaction_etl==0.1.0) (13.9.4)\n",
      "Requirement already satisfied: pydantic>=2.6 in /usr/local/lib/python3.10/site-packages (from customer_transaction_etl==0.1.0) (2.10.6)\n",
      "Requirement already satisfied: chispa>=0.10 in /usr/local/lib/python3.10/site-packages (from customer_transaction_etl==0.1.0) (0.11.1)\n",
      "Requirement already satisfied: pyspark>=3.4 in /opt/spark/python (from customer_transaction_etl==0.1.0) (3.5.5)\n",
      "Requirement already satisfied: prettytable<4.0.0,>=3.10.2 in /usr/local/lib/python3.10/site-packages (from chispa>=0.10->customer_transaction_etl==0.1.0) (3.15.1)\n",
      "Requirement already satisfied: typing-extensions>=4.12.2 in /usr/local/lib/python3.10/site-packages (from pydantic>=2.6->customer_transaction_etl==0.1.0) (4.12.2)\n",
      "Requirement already satisfied: pydantic-core==2.27.2 in /usr/local/lib/python3.10/site-packages (from pydantic>=2.6->customer_transaction_etl==0.1.0) (2.27.2)\n",
      "Requirement already satisfied: annotated-types>=0.6.0 in /usr/local/lib/python3.10/site-packages (from pydantic>=2.6->customer_transaction_etl==0.1.0) (0.7.0)\n",
      "Requirement already satisfied: py4j==0.10.9.7 in /usr/local/lib/python3.10/site-packages (from pyspark>=3.4->customer_transaction_etl==0.1.0) (0.10.9.7)\n",
      "Requirement already satisfied: iniconfig>=1 in /usr/local/lib/python3.10/site-packages (from pytest>=8.0->customer_transaction_etl==0.1.0) (2.1.0)\n",
      "Requirement already satisfied: pygments>=2.7.2 in /usr/local/lib/python3.10/site-packages (from pytest>=8.0->customer_transaction_etl==0.1.0) (2.19.1)\n",
      "Requirement already satisfied: exceptiongroup>=1 in /usr/local/lib/python3.10/site-packages (from pytest>=8.0->customer_transaction_etl==0.1.0) (1.2.2)\n",
      "Requirement already satisfied: tomli>=1 in /usr/local/lib/python3.10/site-packages (from pytest>=8.0->customer_transaction_etl==0.1.0) (2.2.1)\n",
      "Requirement already satisfied: packaging>=20 in /usr/local/lib/python3.10/site-packages (from pytest>=8.0->customer_transaction_etl==0.1.0) (24.2)\n",
      "Requirement already satisfied: pluggy<2,>=1.5 in /usr/local/lib/python3.10/site-packages (from pytest>=8.0->customer_transaction_etl==0.1.0) (1.6.0)\n",
      "Requirement already satisfied: markdown-it-py>=2.2.0 in /usr/local/lib/python3.10/site-packages (from rich>=13.7->customer_transaction_etl==0.1.0) (3.0.0)\n",
      "Requirement already satisfied: shellingham>=1.3.0 in /usr/local/lib/python3.10/site-packages (from typer>=0.12->customer_transaction_etl==0.1.0) (1.5.4)\n",
      "Requirement already satisfied: click>=8.0.0 in /usr/local/lib/python3.10/site-packages (from typer>=0.12->customer_transaction_etl==0.1.0) (8.1.8)\n",
      "Requirement already satisfied: mdurl~=0.1 in /usr/local/lib/python3.10/site-packages (from markdown-it-py>=2.2.0->rich>=13.7->customer_transaction_etl==0.1.0) (0.1.2)\n",
      "Requirement already satisfied: wcwidth in /usr/local/lib/python3.10/site-packages (from prettytable<4.0.0,>=3.10.2->chispa>=0.10->customer_transaction_etl==0.1.0) (0.2.13)\n",
      "Building wheels for collected packages: customer_transaction_etl\n",
      "  Building editable for customer_transaction_etl (pyproject.toml) ... \u001b[?25ldone\n",
      "\u001b[?25h  Created wheel for customer_transaction_etl: filename=customer_transaction_etl-0.1.0-0.editable-py3-none-any.whl size=1417 sha256=274b27414369d5c85dc637254395f9ce186ad51b35dd507261ad196a6cb12dc7\n",
      "  Stored in directory: /tmp/pip-ephem-wheel-cache-wzjvmzf8/wheels/47/e4/18/3729c1b70e0dfec9a6b23d35b4183f467ede935f2336901bfb\n",
      "Successfully built customer_transaction_etl\n",
      "Installing collected packages: customer_transaction_etl\n",
      "  Attempting uninstall: customer_transaction_etl\n",
      "    Found existing installation: customer-transaction-etl 0.1.0\n",
      "    Uninstalling customer-transaction-etl-0.1.0:\n",
      "      Successfully uninstalled customer-transaction-etl-0.1.0\n",
      "Successfully installed customer_transaction_etl-0.1.0\n",
      "\u001b[33mWARNING: Running pip as the 'root' user can result in broken permissions and conflicting behaviour with the system package manager. It is recommended to use a virtual environment instead: https://pip.pypa.io/warnings/venv\u001b[0m\u001b[33m\n",
      "\u001b[0m\n",
      "\u001b[1m[\u001b[0m\u001b[34;49mnotice\u001b[0m\u001b[1;39;49m]\u001b[0m\u001b[39;49m A new release of pip is available: \u001b[0m\u001b[31;49m23.0.1\u001b[0m\u001b[39;49m -> \u001b[0m\u001b[32;49m25.2\u001b[0m\n",
      "\u001b[1m[\u001b[0m\u001b[34;49mnotice\u001b[0m\u001b[1;39;49m]\u001b[0m\u001b[39;49m To update, run: \u001b[0m\u001b[32;49mpip install --upgrade pip\u001b[0m\n",
      "Note: you may need to restart the kernel to use updated packages.\n"
     ]
    }
   ],
   "source": [
    "pip install -e /home/iceberg"
   ]
  },
  {
   "cell_type": "markdown",
   "id": "e5342a7c-3e1d-47ce-991e-30b4ec820083",
   "metadata": {},
   "source": [
    "## Starting the Data Exploration "
   ]
  },
  {
   "cell_type": "code",
   "execution_count": 9,
   "id": "7800506d-0cce-4195-8e5f-17f5fdc45e92",
   "metadata": {},
   "outputs": [
    {
     "name": "stderr",
     "output_type": "stream",
     "text": [
      "25/09/27 19:31:25 WARN SparkSession: Using an existing Spark session; only runtime SQL configurations will take effect.\n"
     ]
    }
   ],
   "source": [
    "from customer_transaction_etl.session import build_spark\n",
    "spark = build_spark(\"data-exploration\")"
   ]
  },
  {
   "cell_type": "code",
   "execution_count": 32,
   "id": "5601fee3-8ab6-4d1d-8503-5ff685e7f60a",
   "metadata": {},
   "outputs": [
    {
     "name": "stdout",
     "output_type": "stream",
     "text": [
      "27-09-2025\n"
     ]
    }
   ],
   "source": [
    "from datetime import datetime\n",
    "print(datetime.today().strftime('%d-%m-%Y'))\n",
    "today=datetime.today().strftime('%d-%m-%Y')\n",
    "\n",
    "from customer_transaction_etl.config import Paths\n",
    "ingest_date = \"2025-09-25\"  # or today \n",
    "raw_glob = os.path.join(Paths.raw,\"customer_data_ingest\", f\"ingest_date={ingest_date}\", \"*.json\")"
   ]
  },
  {
   "cell_type": "code",
   "execution_count": 33,
   "id": "36195ceb-8027-4c32-942b-792ce52c37a3",
   "metadata": {},
   "outputs": [
    {
     "name": "stdout",
     "output_type": "stream",
     "text": [
      "Reading: ./data/raw/customer_data_ingest/ingest_date=2025-09-25/*.json\n"
     ]
    }
   ],
   "source": [
    "print(\"Reading:\", raw_glob)"
   ]
  },
  {
   "cell_type": "code",
   "execution_count": 34,
   "id": "17580470-6db3-4595-9161-4774384aad7b",
   "metadata": {},
   "outputs": [
    {
     "ename": "AnalysisException",
     "evalue": "[PATH_NOT_FOUND] Path does not exist: file:/home/iceberg/notebooks/notebooks/adastra-task/data/raw/customer_data_ingest/ingest_date=2025-09-25/*.json.",
     "output_type": "error",
     "traceback": [
      "\u001b[0;31m---------------------------------------------------------------------------\u001b[0m",
      "\u001b[0;31mAnalysisException\u001b[0m                         Traceback (most recent call last)",
      "Cell \u001b[0;32mIn[34], line 1\u001b[0m\n\u001b[0;32m----> 1\u001b[0m df_raw \u001b[38;5;241m=\u001b[39m \u001b[43mspark\u001b[49m\u001b[38;5;241;43m.\u001b[39;49m\u001b[43mread\u001b[49m\u001b[38;5;241;43m.\u001b[39;49m\u001b[43mjson\u001b[49m\u001b[43m(\u001b[49m\u001b[43mraw_glob\u001b[49m\u001b[43m,\u001b[49m\u001b[43m \u001b[49m\u001b[43mmultiLine\u001b[49m\u001b[38;5;241;43m=\u001b[39;49m\u001b[38;5;28;43;01mTrue\u001b[39;49;00m\u001b[43m)\u001b[49m\n",
      "File \u001b[0;32m/opt/spark/python/pyspark/sql/readwriter.py:425\u001b[0m, in \u001b[0;36mDataFrameReader.json\u001b[0;34m(self, path, schema, primitivesAsString, prefersDecimal, allowComments, allowUnquotedFieldNames, allowSingleQuotes, allowNumericLeadingZero, allowBackslashEscapingAnyCharacter, mode, columnNameOfCorruptRecord, dateFormat, timestampFormat, multiLine, allowUnquotedControlChars, lineSep, samplingRatio, dropFieldIfAllNull, encoding, locale, pathGlobFilter, recursiveFileLookup, modifiedBefore, modifiedAfter, allowNonNumericNumbers)\u001b[0m\n\u001b[1;32m    423\u001b[0m \u001b[38;5;28;01mif\u001b[39;00m \u001b[38;5;28mtype\u001b[39m(path) \u001b[38;5;241m==\u001b[39m \u001b[38;5;28mlist\u001b[39m:\n\u001b[1;32m    424\u001b[0m     \u001b[38;5;28;01massert\u001b[39;00m \u001b[38;5;28mself\u001b[39m\u001b[38;5;241m.\u001b[39m_spark\u001b[38;5;241m.\u001b[39m_sc\u001b[38;5;241m.\u001b[39m_jvm \u001b[38;5;129;01mis\u001b[39;00m \u001b[38;5;129;01mnot\u001b[39;00m \u001b[38;5;28;01mNone\u001b[39;00m\n\u001b[0;32m--> 425\u001b[0m     \u001b[38;5;28;01mreturn\u001b[39;00m \u001b[38;5;28mself\u001b[39m\u001b[38;5;241m.\u001b[39m_df(\u001b[38;5;28;43mself\u001b[39;49m\u001b[38;5;241;43m.\u001b[39;49m\u001b[43m_jreader\u001b[49m\u001b[38;5;241;43m.\u001b[39;49m\u001b[43mjson\u001b[49m\u001b[43m(\u001b[49m\u001b[38;5;28;43mself\u001b[39;49m\u001b[38;5;241;43m.\u001b[39;49m\u001b[43m_spark\u001b[49m\u001b[38;5;241;43m.\u001b[39;49m\u001b[43m_sc\u001b[49m\u001b[38;5;241;43m.\u001b[39;49m\u001b[43m_jvm\u001b[49m\u001b[38;5;241;43m.\u001b[39;49m\u001b[43mPythonUtils\u001b[49m\u001b[38;5;241;43m.\u001b[39;49m\u001b[43mtoSeq\u001b[49m\u001b[43m(\u001b[49m\u001b[43mpath\u001b[49m\u001b[43m)\u001b[49m\u001b[43m)\u001b[49m)\n\u001b[1;32m    426\u001b[0m \u001b[38;5;28;01melif\u001b[39;00m \u001b[38;5;28misinstance\u001b[39m(path, RDD):\n\u001b[1;32m    428\u001b[0m     \u001b[38;5;28;01mdef\u001b[39;00m\u001b[38;5;250m \u001b[39m\u001b[38;5;21mfunc\u001b[39m(iterator: Iterable) \u001b[38;5;241m-\u001b[39m\u001b[38;5;241m>\u001b[39m Iterable:\n",
      "File \u001b[0;32m/opt/spark/python/lib/py4j-0.10.9.7-src.zip/py4j/java_gateway.py:1322\u001b[0m, in \u001b[0;36mJavaMember.__call__\u001b[0;34m(self, *args)\u001b[0m\n\u001b[1;32m   1316\u001b[0m command \u001b[38;5;241m=\u001b[39m proto\u001b[38;5;241m.\u001b[39mCALL_COMMAND_NAME \u001b[38;5;241m+\u001b[39m\\\n\u001b[1;32m   1317\u001b[0m     \u001b[38;5;28mself\u001b[39m\u001b[38;5;241m.\u001b[39mcommand_header \u001b[38;5;241m+\u001b[39m\\\n\u001b[1;32m   1318\u001b[0m     args_command \u001b[38;5;241m+\u001b[39m\\\n\u001b[1;32m   1319\u001b[0m     proto\u001b[38;5;241m.\u001b[39mEND_COMMAND_PART\n\u001b[1;32m   1321\u001b[0m answer \u001b[38;5;241m=\u001b[39m \u001b[38;5;28mself\u001b[39m\u001b[38;5;241m.\u001b[39mgateway_client\u001b[38;5;241m.\u001b[39msend_command(command)\n\u001b[0;32m-> 1322\u001b[0m return_value \u001b[38;5;241m=\u001b[39m \u001b[43mget_return_value\u001b[49m\u001b[43m(\u001b[49m\n\u001b[1;32m   1323\u001b[0m \u001b[43m    \u001b[49m\u001b[43manswer\u001b[49m\u001b[43m,\u001b[49m\u001b[43m \u001b[49m\u001b[38;5;28;43mself\u001b[39;49m\u001b[38;5;241;43m.\u001b[39;49m\u001b[43mgateway_client\u001b[49m\u001b[43m,\u001b[49m\u001b[43m \u001b[49m\u001b[38;5;28;43mself\u001b[39;49m\u001b[38;5;241;43m.\u001b[39;49m\u001b[43mtarget_id\u001b[49m\u001b[43m,\u001b[49m\u001b[43m \u001b[49m\u001b[38;5;28;43mself\u001b[39;49m\u001b[38;5;241;43m.\u001b[39;49m\u001b[43mname\u001b[49m\u001b[43m)\u001b[49m\n\u001b[1;32m   1325\u001b[0m \u001b[38;5;28;01mfor\u001b[39;00m temp_arg \u001b[38;5;129;01min\u001b[39;00m temp_args:\n\u001b[1;32m   1326\u001b[0m     \u001b[38;5;28;01mif\u001b[39;00m \u001b[38;5;28mhasattr\u001b[39m(temp_arg, \u001b[38;5;124m\"\u001b[39m\u001b[38;5;124m_detach\u001b[39m\u001b[38;5;124m\"\u001b[39m):\n",
      "File \u001b[0;32m/opt/spark/python/pyspark/errors/exceptions/captured.py:185\u001b[0m, in \u001b[0;36mcapture_sql_exception.<locals>.deco\u001b[0;34m(*a, **kw)\u001b[0m\n\u001b[1;32m    181\u001b[0m converted \u001b[38;5;241m=\u001b[39m convert_exception(e\u001b[38;5;241m.\u001b[39mjava_exception)\n\u001b[1;32m    182\u001b[0m \u001b[38;5;28;01mif\u001b[39;00m \u001b[38;5;129;01mnot\u001b[39;00m \u001b[38;5;28misinstance\u001b[39m(converted, UnknownException):\n\u001b[1;32m    183\u001b[0m     \u001b[38;5;66;03m# Hide where the exception came from that shows a non-Pythonic\u001b[39;00m\n\u001b[1;32m    184\u001b[0m     \u001b[38;5;66;03m# JVM exception message.\u001b[39;00m\n\u001b[0;32m--> 185\u001b[0m     \u001b[38;5;28;01mraise\u001b[39;00m converted \u001b[38;5;28;01mfrom\u001b[39;00m\u001b[38;5;250m \u001b[39m\u001b[38;5;28;01mNone\u001b[39;00m\n\u001b[1;32m    186\u001b[0m \u001b[38;5;28;01melse\u001b[39;00m:\n\u001b[1;32m    187\u001b[0m     \u001b[38;5;28;01mraise\u001b[39;00m\n",
      "\u001b[0;31mAnalysisException\u001b[0m: [PATH_NOT_FOUND] Path does not exist: file:/home/iceberg/notebooks/notebooks/adastra-task/data/raw/customer_data_ingest/ingest_date=2025-09-25/*.json."
     ]
    }
   ],
   "source": [
    "df_raw = spark.read.json(raw_glob, multiLine=True)"
   ]
  },
  {
   "cell_type": "code",
   "execution_count": null,
   "id": "a7644e3f-3e0a-4921-a63f-d4259179eeaf",
   "metadata": {},
   "outputs": [],
   "source": [
    "from pathlib import Path\n",
    "repo_root=Path.cwd().resolve()\n",
    "print(repo_root)"
   ]
  },
  {
   "cell_type": "code",
   "execution_count": 8,
   "id": "6972090c-c632-48f9-bf2d-b224bb45e3d3",
   "metadata": {},
   "outputs": [
    {
     "ename": "ModuleNotFoundError",
     "evalue": "No module named 'config'",
     "output_type": "error",
     "traceback": [
      "\u001b[0;31m---------------------------------------------------------------------------\u001b[0m",
      "\u001b[0;31mModuleNotFoundError\u001b[0m                       Traceback (most recent call last)",
      "Cell \u001b[0;32mIn[8], line 1\u001b[0m\n\u001b[0;32m----> 1\u001b[0m \u001b[38;5;28;01mfrom\u001b[39;00m\u001b[38;5;250m \u001b[39m\u001b[38;5;21;01mconfig\u001b[39;00m\u001b[38;5;250m \u001b[39m\u001b[38;5;28;01mimport\u001b[39;00m Paths\n",
      "\u001b[0;31mModuleNotFoundError\u001b[0m: No module named 'config'"
     ]
    }
   ],
   "source": [
    "from config import Paths\n"
   ]
  },
  {
   "cell_type": "code",
   "execution_count": 16,
   "id": "c5f05c1c-d295-4208-99d5-0b63efa30477",
   "metadata": {},
   "outputs": [
    {
     "name": "stdout",
     "output_type": "stream",
     "text": [
      "['/opt/spark/python/lib/py4j-0.10.9.7-src.zip', '/tmp/spark-d7ba437b-3f47-4496-a440-76207929cee5/userFiles-8aa8d149-baca-4e82-bc4b-85e6526bc17c', '/opt/spark/python', '/home/iceberg/notebooks/notebooks/adastra-task', '/usr/local/lib/python310.zip', '/usr/local/lib/python3.10', '/usr/local/lib/python3.10/lib-dynload', '', '/usr/local/lib/python3.10/site-packages', '../src/python']\n"
     ]
    }
   ],
   "source": [
    "print(sys.path)\n"
   ]
  },
  {
   "cell_type": "code",
   "execution_count": 12,
   "id": "210ff99a-27f6-42d8-ad47-3c9f5ee95703",
   "metadata": {},
   "outputs": [],
   "source": [
    "rm -rf src/python/customer_transaction_etl.egg-info "
   ]
  },
  {
   "cell_type": "code",
   "execution_count": 13,
   "id": "d257ddce-fe31-4fec-8425-b08b36e2894e",
   "metadata": {},
   "outputs": [
    {
     "name": "stdout",
     "output_type": "stream",
     "text": [
      "Obtaining file:///home/iceberg\n",
      "  Installing build dependencies ... \u001b[?2done\n",
      "\u001b[?25h  Checking if build backend supports build_editable ... \u001b[?25ldone\n",
      "\u001b[?25h  Getting requirements to build editable ... \u001b[?25ldone\n",
      "\u001b[?25h  Preparing editable metadata (pyproject.toml) ... \u001b[?25ldone\n",
      "\u001b[?25hRequirement already satisfied: pyspark>=3.4 in /opt/spark/python (from customer_transaction_etl==0.1.0) (3.5.5)\n",
      "Requirement already satisfied: pydantic>=2.6 in /usr/local/lib/python3.10/site-packages (from customer_transaction_etl==0.1.0) (2.10.6)\n",
      "Requirement already satisfied: chispa>=0.10 in /usr/local/lib/python3.10/site-packages (from customer_transaction_etl==0.1.0) (0.11.1)\n",
      "Requirement already satisfied: typer>=0.12 in /usr/local/lib/python3.10/site-packages (from customer_transaction_etl==0.1.0) (0.19.2)\n",
      "Requirement already satisfied: pytest>=8.0 in /usr/local/lib/python3.10/site-packages (from customer_transaction_etl==0.1.0) (8.4.2)\n",
      "Requirement already satisfied: rich>=13.7 in /usr/local/lib/python3.10/site-packages (from customer_transaction_etl==0.1.0) (13.9.4)\n",
      "Requirement already satisfied: prettytable<4.0.0,>=3.10.2 in /usr/local/lib/python3.10/site-packages (from chispa>=0.10->customer_transaction_etl==0.1.0) (3.15.1)\n",
      "Requirement already satisfied: pydantic-core==2.27.2 in /usr/local/lib/python3.10/site-packages (from pydantic>=2.6->customer_transaction_etl==0.1.0) (2.27.2)\n",
      "Requirement already satisfied: annotated-types>=0.6.0 in /usr/local/lib/python3.10/site-packages (from pydantic>=2.6->customer_transaction_etl==0.1.0) (0.7.0)\n",
      "Requirement already satisfied: typing-extensions>=4.12.2 in /usr/local/lib/python3.10/site-packages (from pydantic>=2.6->customer_transaction_etl==0.1.0) (4.12.2)\n",
      "Requirement already satisfied: py4j==0.10.9.7 in /usr/local/lib/python3.10/site-packages (from pyspark>=3.4->customer_transaction_etl==0.1.0) (0.10.9.7)\n",
      "Requirement already satisfied: exceptiongroup>=1 in /usr/local/lib/python3.10/site-packages (from pytest>=8.0->customer_transaction_etl==0.1.0) (1.2.2)\n",
      "Requirement already satisfied: tomli>=1 in /usr/local/lib/python3.10/site-packages (from pytest>=8.0->customer_transaction_etl==0.1.0) (2.2.1)\n",
      "Requirement already satisfied: pluggy<2,>=1.5 in /usr/local/lib/python3.10/site-packages (from pytest>=8.0->customer_transaction_etl==0.1.0) (1.6.0)\n",
      "Requirement already satisfied: pygments>=2.7.2 in /usr/local/lib/python3.10/site-packages (from pytest>=8.0->customer_transaction_etl==0.1.0) (2.19.1)\n",
      "Requirement already satisfied: iniconfig>=1 in /usr/local/lib/python3.10/site-packages (from pytest>=8.0->customer_transaction_etl==0.1.0) (2.1.0)\n",
      "Requirement already satisfied: packaging>=20 in /usr/local/lib/python3.10/site-packages (from pytest>=8.0->customer_transaction_etl==0.1.0) (24.2)\n",
      "Requirement already satisfied: markdown-it-py>=2.2.0 in /usr/local/lib/python3.10/site-packages (from rich>=13.7->customer_transaction_etl==0.1.0) (3.0.0)\n",
      "Requirement already satisfied: shellingham>=1.3.0 in /usr/local/lib/python3.10/site-packages (from typer>=0.12->customer_transaction_etl==0.1.0) (1.5.4)\n",
      "Requirement already satisfied: click>=8.0.0 in /usr/local/lib/python3.10/site-packages (from typer>=0.12->customer_transaction_etl==0.1.0) (8.1.8)\n",
      "Requirement already satisfied: mdurl~=0.1 in /usr/local/lib/python3.10/site-packages (from markdown-it-py>=2.2.0->rich>=13.7->customer_transaction_etl==0.1.0) (0.1.2)\n",
      "Requirement already satisfied: wcwidth in /usr/local/lib/python3.10/site-packages (from prettytable<4.0.0,>=3.10.2->chispa>=0.10->customer_transaction_etl==0.1.0) (0.2.13)\n",
      "Building wheels for collected packages: customer_transaction_etl\n",
      "  Building editable for customer_transaction_etl (pyproject.toml) ... \u001b[?25ldone\n",
      "\u001b[?25h  Created wheel for customer_transaction_etl: filename=customer_transaction_etl-0.1.0-0.editable-py3-none-any.whl size=1441 sha256=920df4c9f33c32be9b0b37b55cceffdcd7b65b3b0fc9440a8f142d5845beaed2\n",
      "  Stored in directory: /tmp/pip-ephem-wheel-cache-911iyv4w/wheels/47/e4/18/3729c1b70e0dfec9a6b23d35b4183f467ede935f2336901bfb\n",
      "Successfully built customer_transaction_etl\n",
      "Installing collected packages: customer_transaction_etl\n",
      "  Attempting uninstall: customer_transaction_etl\n",
      "    Found existing installation: customer_transaction_etl 0.1.0\n",
      "    Uninstalling customer_transaction_etl-0.1.0:\n",
      "      Successfully uninstalled customer_transaction_etl-0.1.0\n",
      "Successfully installed customer_transaction_etl-0.1.0\n",
      "\u001b[33mWARNING: Running pip as the 'root' user can result in broken permissions and conflicting behaviour with the system package manager. It is recommended to use a virtual environment instead: https://pip.pypa.io/warnings/venv\u001b[0m\u001b[33m\n",
      "\u001b[0m\n",
      "\u001b[1m[\u001b[0m\u001b[34;49mnotice\u001b[0m\u001b[1;39;49m]\u001b[0m\u001b[39;49m A new release of pip is available: \u001b[0m\u001b[31;49m23.0.1\u001b[0m\u001b[39;49m -> \u001b[0m\u001b[32;49m25.2\u001b[0m\n",
      "\u001b[1m[\u001b[0m\u001b[34;49mnotice\u001b[0m\u001b[1;39;49m]\u001b[0m\u001b[39;49m To update, run: \u001b[0m\u001b[32;49mpip install --upgrade pip\u001b[0m\n",
      "Note: you may need to restart the kernel to use updated packages.\n"
     ]
    }
   ],
   "source": [
    "pip install -e /home/iceberg"
   ]
  },
  {
   "cell_type": "code",
   "execution_count": null,
   "id": "0e1a18cf-211c-4a5c-beed-005dad84be10",
   "metadata": {},
   "outputs": [],
   "source": []
  }
 ],
 "metadata": {
  "kernelspec": {
   "display_name": "Python 3 (ipykernel)",
   "language": "python",
   "name": "python3"
  },
  "language_info": {
   "codemirror_mode": {
    "name": "ipython",
    "version": 3
   },
   "file_extension": ".py",
   "mimetype": "text/x-python",
   "name": "python",
   "nbconvert_exporter": "python",
   "pygments_lexer": "ipython3",
   "version": "3.10.16"
  }
 },
 "nbformat": 4,
 "nbformat_minor": 5
}
